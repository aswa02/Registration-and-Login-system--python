{
  "nbformat": 4,
  "nbformat_minor": 0,
  "metadata": {
    "colab": {
      "name": "Registration and Login -Task1.ipynb",
      "provenance": [],
      "collapsed_sections": [],
      "authorship_tag": "ABX9TyOWUtZXhbfneROvLrbL10cl",
      "include_colab_link": true
    },
    "kernelspec": {
      "name": "python3",
      "display_name": "Python 3"
    },
    "language_info": {
      "name": "python"
    }
  },
  "cells": [
    {
      "cell_type": "markdown",
      "metadata": {
        "id": "view-in-github",
        "colab_type": "text"
      },
      "source": [
        "<a href=\"https://colab.research.google.com/github/aswa02/Registration-and-Login-system--python/blob/main/Registration_and_Login_Task1.ipynb\" target=\"_parent\"><img src=\"https://colab.research.google.com/assets/colab-badge.svg\" alt=\"Open In Colab\"/></a>"
      ]
    },
    {
      "cell_type": "code",
      "execution_count": 26,
      "metadata": {
        "colab": {
          "base_uri": "https://localhost:8080/"
        },
        "id": "55m2YNskl8hr",
        "outputId": "2f111d03-c4e1-4055-af23-1138bf48298a"
      },
      "outputs": [
        {
          "output_type": "stream",
          "name": "stdout",
          "text": [
            "Enter 1 for Signup \n",
            "\n",
            "Enter 2 for Login \n",
            "\n",
            "Enter your choice:2\n",
            "Enter your email address:aswa0224@gmail.com\n",
            "Enter a password:A$wa0224\n",
            "Login Completed\n"
          ]
        }
      ],
      "source": [
        "import re\n",
        "def signup():\n",
        "  regex = '^[a-z0-9]+[\\._]?[a-z0-9]+[@]\\w+[.]\\w{2,3}$'\n",
        "  Email =input(\"Enter your email address:\")\n",
        "  Password = input(\"Enter a password:\")\n",
        "  special_characters=['$','@','#',\"&\",\"!\"]\n",
        "  if (re.search(regex,Email)):\n",
        "    if len(Password)>5 & len(Password)<16:\n",
        "      if any(char.isdigit() for char in Password):\n",
        "        if any(char.isupper() for char in Password):\n",
        "          if any(char.islower() for char in Password):\n",
        "            if any(char in special_characters for char in Password):\n",
        "                db=open(\"database.txt\",'a')\n",
        "                db.write(Email+\", \"+Password+\"\\n\")\n",
        "                print(\"Registeration Completed\")\n",
        "            else:\n",
        "              print(\"Password must contain one special character\")\n",
        "              signup()\n",
        "          else:\n",
        "            print(\"Password must contain one lower case\")\n",
        "            signup()\n",
        "        else:\n",
        "          print(\"Password must contain one Upper case\")\n",
        "          signup()\n",
        "      else:\n",
        "        print(\"Password must contain one number\")\n",
        "        signup()\n",
        "    else:\n",
        "      print(\"Password length must be greater than 5 and less than 16\")\n",
        "      signup()\n",
        "  else:\n",
        "    print(\"Enter a valid Email address\")\n",
        "    signup()\n",
        "def login():\n",
        "  Email =input(\"Enter your email address:\")\n",
        "  Password = input(\"Enter a password:\")\n",
        "  db=open(\"database.txt\",'r')\n",
        "  for i in db:\n",
        "        a,b = i.split(\",\")\n",
        "        b=b.strip()\n",
        "        if (Email==a and Password!=b):\n",
        "            print(\"Password is wrong.\")\n",
        "            l=input(\"To retrive forgotten password, enter 1\")\n",
        "            if l==\"1\":\n",
        "                print('Your password is', b)\n",
        "                login()\n",
        "                print(\"Login Completed\")\n",
        "            else:\n",
        "                print('No forgot password is requested, Try again')\n",
        "                welcome()\n",
        "        elif (Email==a and Password==b):\n",
        "             print(\"Login Completed\")\n",
        "             break\n",
        "        else :\n",
        "            print('Your credentials not found, Kindly Try agian')\n",
        "            \n",
        "            break\n",
        "      \n",
        "        \n",
        "\n",
        "def welcome():\n",
        "   print('Enter 1 for Signup \\n')\n",
        "   print('Enter 2 for Login \\n')\n",
        "   option =  int(input('Enter your choice:'))\n",
        "   if option == 1:\n",
        "     signup()\n",
        "   else :\n",
        "     login()\n",
        "\n",
        "welcome()"
      ]
    }
  ]
}